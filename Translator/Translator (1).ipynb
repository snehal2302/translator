{
 "cells": [
  {
   "cell_type": "code",
   "execution_count": 10,
   "id": "b5f1940e",
   "metadata": {},
   "outputs": [
    {
     "name": "stdout",
     "output_type": "stream",
     "text": [
      "Requirement already satisfied: translate in c:\\users\\admin\\anaconda3\\lib\\site-packages (3.6.1)Note: you may need to restart the kernel to use updated packages.\n",
      "\n",
      "Requirement already satisfied: lxml in c:\\users\\admin\\anaconda3\\lib\\site-packages (from translate) (4.8.0)\n",
      "Requirement already satisfied: click in c:\\users\\admin\\anaconda3\\lib\\site-packages (from translate) (8.0.4)\n",
      "Requirement already satisfied: libretranslatepy==2.1.1 in c:\\users\\admin\\anaconda3\\lib\\site-packages (from translate) (2.1.1)\n",
      "Requirement already satisfied: requests in c:\\users\\admin\\anaconda3\\lib\\site-packages (from translate) (2.27.1)\n",
      "Requirement already satisfied: colorama in c:\\users\\admin\\anaconda3\\lib\\site-packages (from click->translate) (0.4.4)\n",
      "Requirement already satisfied: certifi>=2017.4.17 in c:\\users\\admin\\anaconda3\\lib\\site-packages (from requests->translate) (2021.10.8)\n",
      "Requirement already satisfied: charset-normalizer~=2.0.0 in c:\\users\\admin\\anaconda3\\lib\\site-packages (from requests->translate) (2.0.4)\n",
      "Requirement already satisfied: idna<4,>=2.5 in c:\\users\\admin\\anaconda3\\lib\\site-packages (from requests->translate) (3.3)\n",
      "Requirement already satisfied: urllib3<1.27,>=1.21.1 in c:\\users\\admin\\anaconda3\\lib\\site-packages (from requests->translate) (1.26.9)\n"
     ]
    }
   ],
   "source": [
    "pip install translate"
   ]
  },
  {
   "cell_type": "code",
   "execution_count": 11,
   "id": "43a06b8e",
   "metadata": {},
   "outputs": [],
   "source": [
    "from tkinter import *\n",
    "from translate import Translator"
   ]
  },
  {
   "cell_type": "code",
   "execution_count": 12,
   "id": "40b19db9",
   "metadata": {},
   "outputs": [],
   "source": [
    "Screen = Tk()\n",
    "Screen.title(\"Language Translator by using Python\")\n",
    " \n",
    "InputLanguageChoice = StringVar()\n",
    "TranslateLanguageChoice = StringVar()"
   ]
  },
  {
   "cell_type": "code",
   "execution_count": 13,
   "id": "1eb4b23a",
   "metadata": {},
   "outputs": [],
   "source": [
    "LanguageChoices = {'Hindi','English','French','German','Spanish'}\n",
    "InputLanguageChoice.set('English')\n",
    "TranslateLanguageChoice.set('Hindi')"
   ]
  },
  {
   "cell_type": "code",
   "execution_count": 14,
   "id": "94ef2366",
   "metadata": {},
   "outputs": [],
   "source": [
    "def Translate():\n",
    "    translator = Translator(from_lang= InputLanguageChoice.get(),to_lang=TranslateLanguageChoice.get())\n",
    "    Translation = translator.translate(TextVar.get())\n",
    "    OutputVar.set(Translation)"
   ]
  },
  {
   "cell_type": "code",
   "execution_count": 15,
   "id": "7b9e99f2",
   "metadata": {},
   "outputs": [],
   "source": [
    "#choice for input language\n",
    "InputLanguageChoiceMenu = OptionMenu(Screen,InputLanguageChoice,*LanguageChoices)\n",
    "Label(Screen,text=\"Choose a Language\").grid(row=0,column=1)\n",
    "InputLanguageChoiceMenu.grid(row=1,column=1)\n",
    " \n",
    "#choice in which the language is to be translated\n",
    "NewLanguageChoiceMenu = OptionMenu(Screen,TranslateLanguageChoice,*LanguageChoices)\n",
    "Label(Screen,text=\"Translated Language\").grid(row=0,column=2)\n",
    "NewLanguageChoiceMenu.grid(row=1,column=2)"
   ]
  },
  {
   "cell_type": "code",
   "execution_count": null,
   "id": "8838500d",
   "metadata": {},
   "outputs": [
    {
     "name": "stderr",
     "output_type": "stream",
     "text": [
      "Exception in Tkinter callback\n",
      "Traceback (most recent call last):\n",
      "  File \"C:\\Users\\admin\\anaconda3\\lib\\site-packages\\translate\\translate.py\", line 45, in <genexpr>\n",
      "    return ' '.join(self.provider.get_translation(text_wraped) for text_wraped in text_list)\n",
      "  File \"C:\\Users\\admin\\anaconda3\\lib\\site-packages\\translate\\providers\\mymemory_translated.py\", line 49, in get_translation\n",
      "    next_best_match = next(match for match in matches)\n",
      "StopIteration\n",
      "\n",
      "The above exception was the direct cause of the following exception:\n",
      "\n",
      "Traceback (most recent call last):\n",
      "  File \"C:\\Users\\admin\\anaconda3\\lib\\tkinter\\__init__.py\", line 1892, in __call__\n",
      "    return self.func(*args)\n",
      "  File \"C:\\Users\\admin\\AppData\\Local\\Temp\\ipykernel_6696\\1956489052.py\", line 3, in Translate\n",
      "    Translation = translator.translate(TextVar.get())\n",
      "  File \"C:\\Users\\admin\\anaconda3\\lib\\site-packages\\translate\\translate.py\", line 45, in translate\n",
      "    return ' '.join(self.provider.get_translation(text_wraped) for text_wraped in text_list)\n",
      "RuntimeError: generator raised StopIteration\n",
      "Exception in Tkinter callback\n",
      "Traceback (most recent call last):\n",
      "  File \"C:\\Users\\admin\\anaconda3\\lib\\site-packages\\translate\\translate.py\", line 45, in <genexpr>\n",
      "    return ' '.join(self.provider.get_translation(text_wraped) for text_wraped in text_list)\n",
      "  File \"C:\\Users\\admin\\anaconda3\\lib\\site-packages\\translate\\providers\\mymemory_translated.py\", line 49, in get_translation\n",
      "    next_best_match = next(match for match in matches)\n",
      "StopIteration\n",
      "\n",
      "The above exception was the direct cause of the following exception:\n",
      "\n",
      "Traceback (most recent call last):\n",
      "  File \"C:\\Users\\admin\\anaconda3\\lib\\tkinter\\__init__.py\", line 1892, in __call__\n",
      "    return self.func(*args)\n",
      "  File \"C:\\Users\\admin\\AppData\\Local\\Temp\\ipykernel_6696\\1956489052.py\", line 3, in Translate\n",
      "    Translation = translator.translate(TextVar.get())\n",
      "  File \"C:\\Users\\admin\\anaconda3\\lib\\site-packages\\translate\\translate.py\", line 45, in translate\n",
      "    return ' '.join(self.provider.get_translation(text_wraped) for text_wraped in text_list)\n",
      "RuntimeError: generator raised StopIteration\n",
      "Exception in Tkinter callback\n",
      "Traceback (most recent call last):\n",
      "  File \"C:\\Users\\admin\\anaconda3\\lib\\site-packages\\translate\\translate.py\", line 45, in <genexpr>\n",
      "    return ' '.join(self.provider.get_translation(text_wraped) for text_wraped in text_list)\n",
      "  File \"C:\\Users\\admin\\anaconda3\\lib\\site-packages\\translate\\providers\\mymemory_translated.py\", line 49, in get_translation\n",
      "    next_best_match = next(match for match in matches)\n",
      "StopIteration\n",
      "\n",
      "The above exception was the direct cause of the following exception:\n",
      "\n",
      "Traceback (most recent call last):\n",
      "  File \"C:\\Users\\admin\\anaconda3\\lib\\tkinter\\__init__.py\", line 1892, in __call__\n",
      "    return self.func(*args)\n",
      "  File \"C:\\Users\\admin\\AppData\\Local\\Temp\\ipykernel_6696\\1956489052.py\", line 3, in Translate\n",
      "    Translation = translator.translate(TextVar.get())\n",
      "  File \"C:\\Users\\admin\\anaconda3\\lib\\site-packages\\translate\\translate.py\", line 45, in translate\n",
      "    return ' '.join(self.provider.get_translation(text_wraped) for text_wraped in text_list)\n",
      "RuntimeError: generator raised StopIteration\n",
      "Exception in Tkinter callback\n",
      "Traceback (most recent call last):\n",
      "  File \"C:\\Users\\admin\\anaconda3\\lib\\site-packages\\translate\\translate.py\", line 45, in <genexpr>\n",
      "    return ' '.join(self.provider.get_translation(text_wraped) for text_wraped in text_list)\n",
      "  File \"C:\\Users\\admin\\anaconda3\\lib\\site-packages\\translate\\providers\\mymemory_translated.py\", line 49, in get_translation\n",
      "    next_best_match = next(match for match in matches)\n",
      "StopIteration\n",
      "\n",
      "The above exception was the direct cause of the following exception:\n",
      "\n",
      "Traceback (most recent call last):\n",
      "  File \"C:\\Users\\admin\\anaconda3\\lib\\tkinter\\__init__.py\", line 1892, in __call__\n",
      "    return self.func(*args)\n",
      "  File \"C:\\Users\\admin\\AppData\\Local\\Temp\\ipykernel_6696\\1956489052.py\", line 3, in Translate\n",
      "    Translation = translator.translate(TextVar.get())\n",
      "  File \"C:\\Users\\admin\\anaconda3\\lib\\site-packages\\translate\\translate.py\", line 45, in translate\n",
      "    return ' '.join(self.provider.get_translation(text_wraped) for text_wraped in text_list)\n",
      "RuntimeError: generator raised StopIteration\n",
      "Exception in Tkinter callback\n",
      "Traceback (most recent call last):\n",
      "  File \"C:\\Users\\admin\\anaconda3\\lib\\site-packages\\translate\\translate.py\", line 45, in <genexpr>\n",
      "    return ' '.join(self.provider.get_translation(text_wraped) for text_wraped in text_list)\n",
      "  File \"C:\\Users\\admin\\anaconda3\\lib\\site-packages\\translate\\providers\\mymemory_translated.py\", line 49, in get_translation\n",
      "    next_best_match = next(match for match in matches)\n",
      "StopIteration\n",
      "\n",
      "The above exception was the direct cause of the following exception:\n",
      "\n",
      "Traceback (most recent call last):\n",
      "  File \"C:\\Users\\admin\\anaconda3\\lib\\tkinter\\__init__.py\", line 1892, in __call__\n",
      "    return self.func(*args)\n",
      "  File \"C:\\Users\\admin\\AppData\\Local\\Temp\\ipykernel_6696\\1956489052.py\", line 3, in Translate\n",
      "    Translation = translator.translate(TextVar.get())\n",
      "  File \"C:\\Users\\admin\\anaconda3\\lib\\site-packages\\translate\\translate.py\", line 45, in translate\n",
      "    return ' '.join(self.provider.get_translation(text_wraped) for text_wraped in text_list)\n",
      "RuntimeError: generator raised StopIteration\n"
     ]
    }
   ],
   "source": [
    "Label(Screen,text=\"Enter Text\").grid(row=2,column =0)\n",
    "TextVar = StringVar()\n",
    "TextBox = Entry(Screen,textvariable=TextVar).grid(row=2,column = 1)\n",
    " \n",
    "Label(Screen,text=\"Output Text\").grid(row=2,column =2)\n",
    "OutputVar = StringVar()\n",
    "TextBox = Entry(Screen,textvariable=OutputVar).grid(row=2,column = 3)\n",
    " \n",
    "#Button for calling function\n",
    "B = Button(Screen,text=\"Translate\",command=Translate, relief = GROOVE).grid(row=3,column=1,columnspan = 3)\n",
    " \n",
    "mainloop()"
   ]
  },
  {
   "cell_type": "code",
   "execution_count": null,
   "id": "0013d7f0",
   "metadata": {},
   "outputs": [],
   "source": []
  }
 ],
 "metadata": {
  "kernelspec": {
   "display_name": "Python 3 (ipykernel)",
   "language": "python",
   "name": "python3"
  },
  "language_info": {
   "codemirror_mode": {
    "name": "ipython",
    "version": 3
   },
   "file_extension": ".py",
   "mimetype": "text/x-python",
   "name": "python",
   "nbconvert_exporter": "python",
   "pygments_lexer": "ipython3",
   "version": "3.9.12"
  }
 },
 "nbformat": 4,
 "nbformat_minor": 5
}
